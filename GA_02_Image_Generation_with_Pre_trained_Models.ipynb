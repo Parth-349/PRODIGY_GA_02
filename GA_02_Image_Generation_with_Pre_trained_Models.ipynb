{
  "nbformat": 4,
  "nbformat_minor": 0,
  "metadata": {
    "colab": {
      "provenance": [],
      "gpuType": "T4",
      "authorship_tag": "ABX9TyOXQWN+3dbMTXBKP7BDP5mT",
      "include_colab_link": true
    },
    "kernelspec": {
      "name": "python3",
      "display_name": "Python 3"
    },
    "language_info": {
      "name": "python"
    },
    "accelerator": "GPU"
  },
  "cells": [
    {
      "cell_type": "markdown",
      "metadata": {
        "id": "view-in-github",
        "colab_type": "text"
      },
      "source": [
        "<a href=\"https://colab.research.google.com/github/Parth-349/PRODIGY_GA_02/blob/main/GA_02_Image_Generation_with_Pre_trained_Models.ipynb\" target=\"_parent\"><img src=\"https://colab.research.google.com/assets/colab-badge.svg\" alt=\"Open In Colab\"/></a>"
      ]
    },
    {
      "cell_type": "code",
      "execution_count": null,
      "metadata": {
        "id": "8Yz0jZ1g5aFr"
      },
      "outputs": [],
      "source": [
        "# ✅ Step 1: Install required packages\n",
        "!pip install -q diffusers transformers accelerate scipy torch\n",
        "\n",
        "# ✅ Step 2: Import and setup pipeline\n",
        "from diffusers import StableDiffusionPipeline\n",
        "import torch\n",
        "import matplotlib.pyplot as plt\n",
        "\n",
        "# ✅ Step 3: Load model\n",
        "pipe = StableDiffusionPipeline.from_pretrained(\n",
        "    \"CompVis/stable-diffusion-v1-4\",\n",
        "    torch_dtype=torch.float16\n",
        ").to(\"cuda\")\n",
        "\n",
        "# ✅ Step 4: Prompt and image generation\n",
        "prompt = \"a cyberpunk futuristic cityscape at night with glowing neon signs\"\n",
        "image = pipe(prompt).images[0]\n",
        "\n",
        "# ✅ Step 5: Display\n",
        "plt.imshow(image)\n",
        "plt.axis(\"off\")\n",
        "plt.show()\n"
      ]
    }
  ]
}